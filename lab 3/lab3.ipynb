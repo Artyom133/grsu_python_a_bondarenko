{
 "cells": [
  {
   "cell_type": "markdown",
   "metadata": {},
   "source": [
    "# Лабораторная работа 3. Объектно-ориентированное программирование. Часть 1."
   ]
  },
  {
   "cell_type": "markdown",
   "metadata": {},
   "source": [
    "Распространённым примером для демонстрации деталей реализации пользовательского класса является разработка класса, воплощающего Fraction. Мы уже видели, что Python предоставляет в наше пользование несколько числовых классов. Однако, бывают моменты, когда более подходящим является создание объекта данных лишь “выглядящего как” дробь.\n",
    "\n",
    "Дробь (например, $\\frac{3}{5}$) состоит из двух частей. Верхнее значение, называемое числитель, может быть любым целым числом. Нижнее значение (знаменатель) - любым целым, большим нуля (отрицательные дроби имеют отрицательный числитель). Также для любой дроби можно создать приближение с плавающей запятой. В этом случае мы хотели бы представлять дробь как точное значение.\n",
    "\n",
    "Операции для типа Fraction будут позволять его объектам данных вести себя подобно любым другим числовым значениям. Мы должны быть готовы складывать, вычитать, умножать и делить дроби. Также необходима возможность показывать дроби в их стандартной “слэш”-форме (например, $\\frac{3}{5}$). Все методы дробей должны возвращать результат в своей сокращённой форме таким образом, чтобы, вне зависимости от вида вычислений, в конце мы всегда имели наиболее общепринятую форму.\n",
    "\n",
    "Запишите класс Fraction. Принимайте через конструктор числитель и знаменатель. "
   ]
  },
  {
   "cell_type": "code",
   "execution_count": 138,
   "metadata": {},
   "outputs": [],
   "source": [
    "class Fraction:\n",
    "\n",
    "    def __init__(self,top,bottom):\n",
    "\n",
    "        self.num = top\n",
    "        self.den = bottom\n",
    "        \n",
    "    def show(self):\n",
    "         print(self.num,\"/\",self.den)\n",
    "            \n",
    "    def __str__(self):\n",
    "        return str(self.num)+\"/\"+str(self.den)\n",
    "    \n",
    "    def __add__(self,otherfraction):\n",
    "        newnum=newnum1 = self.num*otherfraction.den + self.den*otherfraction.num\n",
    "        newden =newden1 = self.den * otherfraction.den\n",
    "        while newnum!=0 and newden!=0:\n",
    "            if newnum>newden:\n",
    "                newnum %= newden \n",
    "            else:\n",
    "                newden %= newnum \n",
    "        n = newnum+newden\n",
    "        newnum1/=n\n",
    "        newden1/=n\n",
    "        return Fraction(newnum1,newden1)\n",
    "    \n",
    "    def reduction(self):\n",
    "        newnum = self.num\n",
    "        newden = self.den\n",
    "        while newnum!=0 and newden!=0:\n",
    "            if newnum>newden:\n",
    "                newnum %= newden \n",
    "            else:\n",
    "                newden %= newnum #\n",
    "        n = newnum+newden\n",
    "        self.num/=n\n",
    "        self.den/=n\n",
    "        return(self)\n",
    "    \n",
    "    def __eq__(self, other):\n",
    "        self.reduction()\n",
    "        other.reduction()\n",
    "        return (self.num == other.num and self.den == other.den)\n",
    "    \n",
    "    def __add__(self,other):\n",
    "        newnum=newnum1 = self.num*other.den + self.den*other.num\n",
    "        newden =newden1 = self.den * other.den\n",
    "        while newnum!=0 and newden!=0:\n",
    "            if newnum>newden:\n",
    "                newnum %= newden \n",
    "            else:\n",
    "                newden %= newnum \n",
    "        n = newnum+newden\n",
    "        newnum1/=n\n",
    "        newden1/=n\n",
    "        return Fraction(newnum1,newden1)\n",
    "    \n",
    "    def __mul__(self, other):\n",
    "        return Fraction(self.num*other.num, self.den*other.den).reduction()\n",
    "    \n",
    "    def __truediv__(self,other):\n",
    "        newnum=self.num*other.den\n",
    "        newden=self.den*other.num\n",
    "        return Fraction(newnum, newden).reduction()\n",
    "    \n",
    "    def __lt__(self,other):\n",
    "        return ((self.num/self.den)<(other.num/other.den))\n",
    "    \n",
    "    def __gt__(self,other):\n",
    "         return ((self.num/self.den)>(other.num/other.den))\n",
    "        \n",
    "    def __sub__(self,other):\n",
    "        newnum = self.num*other.den - self.den*other.num\n",
    "        newden = self.den * other.den\n",
    "        return Fraction(newnum, newden).reduction()"
   ]
  },
  {
   "cell_type": "markdown",
   "metadata": {},
   "source": [
    "Создай сущность класса Fraction. "
   ]
  },
  {
   "cell_type": "code",
   "execution_count": 24,
   "metadata": {},
   "outputs": [],
   "source": [
    "myfraction = Fraction(3,5)"
   ]
  },
  {
   "cell_type": "markdown",
   "metadata": {},
   "source": [
    "Вызовите print от сущности. "
   ]
  },
  {
   "cell_type": "code",
   "execution_count": 4,
   "metadata": {},
   "outputs": [
    {
     "name": "stdout",
     "output_type": "stream",
     "text": [
      "<__main__.Fraction object at 0x053FA868>\n"
     ]
    }
   ],
   "source": [
    "print(myfraction)"
   ]
  },
  {
   "cell_type": "markdown",
   "metadata": {},
   "source": [
    " Функция print требует, чтобы объект конвертировал самого себя в строку, которая будет записана на выходе."
   ]
  },
  {
   "cell_type": "code",
   "execution_count": 25,
   "metadata": {},
   "outputs": [
    {
     "name": "stdout",
     "output_type": "stream",
     "text": [
      "3/5\n"
     ]
    }
   ],
   "source": [
    "print(myfraction)"
   ]
  },
  {
   "cell_type": "markdown",
   "metadata": {},
   "source": [
    "Определите метод под названием show, который позволит объекту Fraction печать самого себя как строку. Продемострируйете. "
   ]
  },
  {
   "cell_type": "code",
   "execution_count": 21,
   "metadata": {},
   "outputs": [
    {
     "name": "stdout",
     "output_type": "stream",
     "text": [
      "3 / 5\n"
     ]
    }
   ],
   "source": [
    "myfraction.show()"
   ]
  },
  {
   "cell_type": "markdown",
   "metadata": {},
   "source": [
    "Теперь тоже самое только стандартными методами. Продемострируйте, что можно дробь выводить через print."
   ]
  },
  {
   "cell_type": "code",
   "execution_count": 26,
   "metadata": {},
   "outputs": [
    {
     "name": "stdout",
     "output_type": "stream",
     "text": [
      "3/5\n"
     ]
    }
   ],
   "source": [
    "print(myfraction)"
   ]
  },
  {
   "cell_type": "markdown",
   "metadata": {},
   "source": [
    "Мы можем перегрузить множество других методов для нового класса Fraction. Одними из наиболее важных из них являются основные арифметические операции. Создайте два объекта Fraction, а затем сложить их вместе, используя стандартную запись “+”"
   ]
  },
  {
   "cell_type": "code",
   "execution_count": 36,
   "metadata": {},
   "outputs": [
    {
     "name": "stdout",
     "output_type": "stream",
     "text": [
      "51/56\n"
     ]
    }
   ],
   "source": [
    "fr1=Fraction(2,7)\n",
    "fr2=Fraction(5,8)\n",
    "fr3=fr1+fr2\n",
    "print(fr3)"
   ]
  },
  {
   "cell_type": "markdown",
   "metadata": {},
   "source": [
    "Если вы внимательнее посмотрите на сообщение об ошибке, то заметите - загвоздка в том, что оператор “+” не понимает операндов Fraction. Перегрузите сложение."
   ]
  },
  {
   "cell_type": "code",
   "execution_count": 37,
   "metadata": {},
   "outputs": [
    {
     "name": "stdout",
     "output_type": "stream",
     "text": [
      "51/56\n"
     ]
    }
   ],
   "source": [
    "fr1=Fraction(2,7)\n",
    "fr2=Fraction(5,8)\n",
    "fr3=fr1+fr2\n",
    "print(fr3)"
   ]
  },
  {
   "cell_type": "markdown",
   "metadata": {},
   "source": [
    "Метод сложения работает, как мы того и хотели, но одну вещь можно было бы улучшить. Дробь не сокращается. Реализуйте метод для сокращения дроби. "
   ]
  },
  {
   "cell_type": "code",
   "execution_count": 103,
   "metadata": {},
   "outputs": [
    {
     "name": "stdout",
     "output_type": "stream",
     "text": [
      "1.0/2.0\n"
     ]
    }
   ],
   "source": [
    "fr1=Fraction(5,12)\n",
    "fr2=Fraction(1,12)\n",
    "fr3=fr1+fr2\n",
    "print(fr3)"
   ]
  },
  {
   "cell_type": "markdown",
   "metadata": {},
   "source": [
    "Предположим, что у нас есть два объекта Fraction f1 и f2. f1 == f2 будет истиной, если они ссылаются на один и тот же объект. Два разных объекта с одинаковыми числителями и знаменателями в этой реализации равны не будут. Это называется поверхностным равенством. Создайте глубокое равенство - по одинаковому значению, а не по одинаковой ссылке - перегрузив метод __eq__. Это ещё один стандартный метод, доступный в любом классе. Он сравнивает два объекта и возвращает True, если их значения равны, или False в противном случае."
   ]
  },
  {
   "cell_type": "code",
   "execution_count": 117,
   "metadata": {},
   "outputs": [
    {
     "name": "stdout",
     "output_type": "stream",
     "text": [
      "False\n",
      "True\n"
     ]
    }
   ],
   "source": [
    "fr1 = Fraction(4,6)\n",
    "fr2 = Fraction(3,8)\n",
    "print(fr1 == fr2)\n",
    "fr3 = Fraction(4,6)\n",
    "fr4 = Fraction(2,3)\n",
    "print(fr3 == fr4)"
   ]
  },
  {
   "cell_type": "markdown",
   "metadata": {},
   "source": [
    "Напишите реализацию операций *, / и -. Продемонстрируйте. "
   ]
  },
  {
   "cell_type": "code",
   "execution_count": 139,
   "metadata": {},
   "outputs": [
    {
     "name": "stdout",
     "output_type": "stream",
     "text": [
      "1.0/4.0\n",
      "1.0/1.0\n",
      "7.0/24.0\n"
     ]
    }
   ],
   "source": [
    "fr1 = Fraction(4,6)\n",
    "fr2 = Fraction(3,8)\n",
    "print(fr1 * fr2)\n",
    "fr3 = Fraction(4,6)\n",
    "fr4 = Fraction(2,3)\n",
    "print(fr3 / fr4)\n",
    "fr1 = Fraction(4,6)\n",
    "fr2 = Fraction(3,8)\n",
    "print(fr1 - fr2)"
   ]
  },
  {
   "cell_type": "markdown",
   "metadata": {},
   "source": [
    "Также реализуйте операторы сравнения > и <."
   ]
  },
  {
   "cell_type": "code",
   "execution_count": 129,
   "metadata": {},
   "outputs": [
    {
     "name": "stdout",
     "output_type": "stream",
     "text": [
      "True\n",
      "False\n",
      "True\n",
      "False\n"
     ]
    }
   ],
   "source": [
    "fr1 = Fraction(4,6)\n",
    "fr2 = Fraction(1,8)\n",
    "print(fr1 > fr2)\n",
    "fr3 = Fraction(4,6)\n",
    "fr4 = Fraction(2,2)\n",
    "print(fr3 > fr4)\n",
    "fr1 = Fraction(4,6)\n",
    "fr2 = Fraction(3,2)\n",
    "print(fr1 < fr2)\n",
    "fr1 = Fraction(14,6)\n",
    "fr2 = Fraction(3,2)\n",
    "print(fr1 < fr2)"
   ]
  },
  {
   "cell_type": "markdown",
   "metadata": {},
   "source": [
    "# ЧАСТЬ 2. Создание базовых классов"
   ]
  },
  {
   "cell_type": "markdown",
   "metadata": {},
   "source": [
    "Вам на вход приходит последовательность целых чисел. Вам надо обрабатывать ее следующим образом: выводить на экран сумму первых пяти чисел этой последовательности, затем следующих 5 итд\n",
    "\n",
    "Но последовательность не дается вам сразу целиком. С течением времени к вам поступают её последовательные части. Например, сначала первые три элемента, потом следующие шесть, потом следующие два и т. д.\n",
    "\n",
    "Реализуйте класс Buffer, который будет накапливать в себе элементы последовательности и выводить сумму пятерок последовательных элементов по мере их накопления.\n",
    "\n",
    "Одним из требований к классу является то, что он не должен хранить в себе больше элементов, чем ему действительно необходимо, т. е. он не должен хранить элементы, которые уже вошли в пятерку, для которой была выведена сумма.\n",
    "\n",
    "Класс должен иметь следующий вид"
   ]
  },
  {
   "cell_type": "code",
   "execution_count": 4,
   "metadata": {},
   "outputs": [],
   "source": [
    "class Buffer:\n",
    "    def __init__(self):\n",
    "        # конструктор без аргументов\n",
    "        pass\n",
    "    \n",
    "    def add(self, *a):\n",
    "        # добавить следующую часть последовательности\n",
    "        pass\n",
    "\n",
    "    def get_current_part(self):\n",
    "        # вернуть сохраненные в текущий момент элементы последовательности в порядке, в котором они были\n",
    "        # добавлены\n",
    "        pass"
   ]
  },
  {
   "cell_type": "markdown",
   "metadata": {},
   "source": [
    "Создайте правильные цепочки наследования классов для: Животное, собака, щенок, самолет, компьютер, имеющее лапы, летающее, орел, белка-летяга, разумное, человек, медуза, одуванчик.\n",
    "В эти классы добавьте конструкторы, а также методы для следующих действий (где надо): полаять, родить, сложить два числа, ужалить, подумать, взлететь, пустить корни, поесть, взять, а также следующие поля: возраст, латинское название (или модель). Прокомментируйте вашу логику. Можете использовать русские слова. "
   ]
  },
  {
   "cell_type": "code",
   "execution_count": 161,
   "metadata": {},
   "outputs": [],
   "source": [
    "class животное:\n",
    "    def __init__(self,возраст,латинское_имя):\n",
    "        self.возраст = возраст\n",
    "        self.латинское_название = латинское_название  \n",
    "        \n",
    "    def поесть(self):\n",
    "        print(self.латинское_название,\" поела\")\n",
    "\n",
    "    def родить(self):\n",
    "        print(self.латинское_название, \" родила\")\n",
    "        \n",
    "class имеющее_лапы(животное):\n",
    "    pass\n",
    "class собака(имеющее_лапы):\n",
    "    def полаять(self):\n",
    "        print(self.латинское_название, \" лает\")\n",
    "        \n",
    "class щенок(собака):\n",
    "    pass\n",
    "class разумное(животное):\n",
    "    def взять(self):\n",
    "        print(self.латинское_название, \" берёт необходимые вещи, либо доступные\")\n",
    "class человек(разумное):\n",
    "    def подумать(self):\n",
    "        print(self.латинское_название, \" обладает способностью думать, но применяет в основном после действий\")\n",
    "     \n",
    "class самолёт(человек):\n",
    "    pass\n",
    "class компьютер(человек):\n",
    "    def сложить_два_числа(self):\n",
    "        print(self.латинское_название, \" способен сложить два числа\")\n",
    "        \n",
    "class летающее(животное):\n",
    "    pass\n",
    "class орёл(летающее):\n",
    "    def взлететь(self):\n",
    "        print(self.латинское_название, \" взлетает и улетает прочь от этой суеты\")\n",
    "        \n",
    "class белка_летяга(летающее):\n",
    "    pass\n",
    "\n",
    "        \n",
    "   \n",
    "class медуза(животное):\n",
    "    def ужалить(self):\n",
    "        print(self.латинское_название, \" жалит, чтобы оставили в покое\")\n",
    "        \n",
    "class одуванчик:\n",
    "    def __init__(self,латинское_название):\n",
    "        self.латинское_название = латинское_название  \n",
    "    def пустить_корни(self):\n",
    "        print(self.латинское_название, \" запустил корни в данный участок земли\")"
   ]
  },
  {
   "cell_type": "code",
   "execution_count": 163,
   "metadata": {},
   "outputs": [
    {
     "name": "stdout",
     "output_type": "stream",
     "text": [
      "Уничтожитель  запустил корни в данный участок земли\n"
     ]
    }
   ],
   "source": [
    "\n",
    "cl = одуванчик(\"Уничтожитель\")\n",
    "cl.пустить_корни()"
   ]
  },
  {
   "cell_type": "code",
   "execution_count": null,
   "metadata": {},
   "outputs": [],
   "source": []
  }
 ],
 "metadata": {
  "kernelspec": {
   "display_name": "Python 3",
   "language": "python",
   "name": "python3"
  },
  "language_info": {
   "codemirror_mode": {
    "name": "ipython",
    "version": 3
   },
   "file_extension": ".py",
   "mimetype": "text/x-python",
   "name": "python",
   "nbconvert_exporter": "python",
   "pygments_lexer": "ipython3",
   "version": "3.8.1"
  }
 },
 "nbformat": 4,
 "nbformat_minor": 1
}
